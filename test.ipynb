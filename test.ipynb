{
 "cells": [
  {
   "cell_type": "code",
   "execution_count": 1,
   "metadata": {},
   "outputs": [
    {
     "name": "stdout",
     "output_type": "stream",
     "text": [
      "200\n"
     ]
    }
   ],
   "source": [
    "import requests as req\n",
    "\n",
    "res = req.get(\"https://api.spoonacular.com/food/search?apiKey=3300b39907ba48109dcef0b2020ac99c&query=burger&number=2\")\n",
    "\n",
    "print(res.status_code)"
   ]
  },
  {
   "cell_type": "code",
   "execution_count": 11,
   "metadata": {},
   "outputs": [
    {
     "name": "stdout",
     "output_type": "stream",
     "text": [
      "{'content': 'You can never have too many middl eastern recipes, so give '\n",
      "            'Falafel Burger a try. For <b>$1.37 per serving</b>, this recipe '\n",
      "            '<b>covers 19%</b> of your daily requirements of vitamins and '\n",
      "            'minerals. One portion of this dish contains around <b>12g of '\n",
      "            'protein</b>, <b>20g of fat</b>, and a total of <b>402 '\n",
      "            'calories</b>. This recipe serves 4. It is brought to you by '\n",
      "            'Foodista. 4 people were impressed by this recipe. Head to the '\n",
      "            'store and pick up onion, garlic, sriracha sauce, and a few other '\n",
      "            'things to make it today. Only a few people really liked this main '\n",
      "            'course. From preparation to the plate, this recipe takes about '\n",
      "            \"<b>about 45 minutes</b>. It is a good option if you're following \"\n",
      "            'a <b>dairy free and lacto ovo vegetarian</b> diet. With a '\n",
      "            'spoonacular <b>score of 81%</b>, this dish is spectacular. Try <a '\n",
      "            'href=\"https://spoonacular.com/recipes/clean-eating-falafel-burger-1063020\">Clean '\n",
      "            'eating falafel burger</a>, <a '\n",
      "            'href=\"https://spoonacular.com/recipes/clean-eating-falafel-burger-848720\">Clean '\n",
      "            'eating falafel burger</a>, and <a '\n",
      "            'href=\"https://spoonacular.com/recipes/falafel-veggie-burger-with-feta-yogurt-sauce-559036\">Falafel '\n",
      "            'Veggie Burger with Feta Yogurt Sauce</a> for similar recipes.',\n",
      " 'dataPoints': [],\n",
      " 'id': 642539,\n",
      " 'image': 'https://spoonacular.com/recipeImages/642539-312x231.png',\n",
      " 'link': 'https://spoonacular.com/recipes/falafel-burger-642539',\n",
      " 'name': 'Falafel Burger',\n",
      " 'relevance': 10000,\n",
      " 'type': 'HTML'}\n",
      "{'content': 'The recipe $50,000 Burger could satisfy your American craving in '\n",
      "            'around <b>45 minutes</b>. One serving contains <b>1499 '\n",
      "            'calories</b>, <b>114g of protein</b>, and <b>97g of fat</b>. This '\n",
      "            'recipe serves 4 and costs $7.9 per serving. Only a few people '\n",
      "            'really liked this main course. 1 person has made this recipe and '\n",
      "            'would make it again. A mixture of onion, salt, to assemble the '\n",
      "            'burgers, and a handful of other ingredients are all it takes to '\n",
      "            'make this recipe so tasty. To use up the walnuts you could follow '\n",
      "            'this main course with the <a '\n",
      "            'href=\"https://spoonacular.com/recipes/pistachio-cake-with-walnuts-426558\">Pistachio '\n",
      "            \"Cake with Walnuts</a> as a dessert. It is a good option if you're \"\n",
      "            'following a <b>dairy free</b> diet. All things considered, we '\n",
      "            'decided this recipe <b>deserves a spoonacular score of 59%</b>. '\n",
      "            'This score is solid. Similar recipes include <a '\n",
      "            'href=\"https://spoonacular.com/recipes/burger-club-award-winning-logan-county-burger-patty-melt-477749\">Burger '\n",
      "            'Club: Award-Winning Logan County Burger Patty Melt</a>, <a '\n",
      "            'href=\"https://spoonacular.com/recipes/new-york-burger-week-pretzel-burger-with-beer-cheese-493632\">New '\n",
      "            'York Burger Week: Pretzel Burger with Beer Cheese</a>, and <a '\n",
      "            'href=\"https://spoonacular.com/recipes/beef-burger-recipe-elvis-burger-with-salad-gherkin-23359\">Beef '\n",
      "            'Burger Recipe (elvis Burger With Salad & Gherkin)</a>.',\n",
      " 'dataPoints': [],\n",
      " 'id': 631814,\n",
      " 'image': 'https://spoonacular.com/recipeImages/631814-312x231.jpg',\n",
      " 'link': 'https://spoonacular.com/recipes/-50-000-burger-631814',\n",
      " 'name': '$50,000 Burger',\n",
      " 'relevance': 9999,\n",
      " 'type': 'HTML'}\n"
     ]
    }
   ],
   "source": [
    "import pprint\n",
    "result = res.json().get(\"searchResults\")[0].get(\"results\")\n",
    "\n",
    "for i in result:\n",
    "    pprint.pprint(i)\n",
    "\n",
    "\"\"\" \n",
    "    we will use i[\"name\"] , i[\"content\"] , i[\"image\"]\n",
    "\"\"\""
   ]
  },
  {
   "cell_type": "code",
   "execution_count": null,
   "metadata": {},
   "outputs": [],
   "source": []
  }
 ],
 "metadata": {
  "interpreter": {
   "hash": "eb8030958e8534cf5f54dcfb5586670f54ef94d30bc2602b79d9f24478c23e46"
  },
  "kernelspec": {
   "display_name": "Python 3.9.2 64-bit",
   "language": "python",
   "name": "python3"
  },
  "language_info": {
   "codemirror_mode": {
    "name": "ipython",
    "version": 3
   },
   "file_extension": ".py",
   "mimetype": "text/x-python",
   "name": "python",
   "nbconvert_exporter": "python",
   "pygments_lexer": "ipython3",
   "version": "3.9.2"
  },
  "orig_nbformat": 4
 },
 "nbformat": 4,
 "nbformat_minor": 2
}
